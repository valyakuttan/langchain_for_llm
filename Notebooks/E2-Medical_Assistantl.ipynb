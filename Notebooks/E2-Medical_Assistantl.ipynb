{
 "cells": [
  {
   "cell_type": "code",
   "execution_count": null,
   "metadata": {},
   "outputs": [],
   "source": [
    "import os\n",
    "\n",
    "from dotenv import load_dotenv, find_dotenv\n",
    "_ = load_dotenv(find_dotenv()) # read local .env file\n",
    "\n",
    "import warnings\n",
    "warnings.filterwarnings('ignore')"
   ]
  },
  {
   "cell_type": "code",
   "execution_count": null,
   "metadata": {},
   "outputs": [],
   "source": [
    "from langchain.chat_models import ChatOpenAI\n",
    "from langchain.chains import ConversationChain\n",
    "from langchain.memory import ConversationBufferMemory"
   ]
  },
  {
   "cell_type": "code",
   "execution_count": null,
   "metadata": {},
   "outputs": [],
   "source": [
    "llm = ChatOpenAI(temperature=0.0)\n",
    "memory = ConversationBufferMemory()\n",
    "conversation = ConversationChain(\n",
    "    llm=llm, \n",
    "    memory = memory,\n",
    "    verbose=True\n",
    ")"
   ]
  },
  {
   "cell_type": "code",
   "execution_count": null,
   "metadata": {},
   "outputs": [],
   "source": [
    "conversation.predict(input=\"\"\"\n",
    "You are an assistant who accesses and synthesizes medical knowledge \\\n",
    "rom all known medical literature and data. Your goal is to help users \\\n",
    "deliver top-notch care to patients.\n",
    "\"\"\")"
   ]
  },
  {
   "cell_type": "code",
   "execution_count": null,
   "metadata": {},
   "outputs": [],
   "source": [
    "response = conversation.predict(input=\"\"\"\n",
    "Please summarize these findings in a medical report. Please write this out in the style of a full medical report on this patient.\n",
    "\n",
    "Exam: D Va 20/30 or 20/15\n",
    "PH to 20/20 OD\n",
    "External nl\n",
    "EOM’s nl\n",
    "CVF’s OD: full\n",
    "OS: superior arcuate scotoma\n",
    "Pupils: 6/2+\n",
    "6/1+ left APD\n",
    "TA: 14/34 @0935\n",
    "\n",
    "SLE\n",
    "Corneas clear\n",
    "AC’s clear and deep\n",
    "Gonio 4+ open OU\n",
    "M&N OU @0947\n",
    "Lenses and vitreous clear (90D) C/D: 0.32 / 0.8 x 0.9\n",
    "Macula and vessels normal OU\n",
    "Indirect normal OU\n",
    "\n",
    "Assessment:\n",
    "A) Open angle glaucoma OS\n",
    "\n",
    "Plan:\n",
    "P) 30/2 HVF\n",
    "Stereo disc photos\n",
    "Betagan 1 drop OS bid\n",
    "F/U 1 wk for IOP check, then 3 mo.”\n",
    "\"\"\")"
   ]
  },
  {
   "cell_type": "code",
   "execution_count": null,
   "metadata": {},
   "outputs": [],
   "source": [
    "print(response)"
   ]
  },
  {
   "cell_type": "code",
   "execution_count": null,
   "metadata": {},
   "outputs": [],
   "source": [
    "response = conversation.predict(input=\"\"\"\n",
    "I’d like this written out in a summary report.\n",
    "\"\"\")"
   ]
  },
  {
   "cell_type": "code",
   "execution_count": null,
   "metadata": {},
   "outputs": [],
   "source": [
    "print(response)"
   ]
  }
 ],
 "metadata": {
  "kernelspec": {
   "display_name": "LangChain_For_LLM",
   "language": "python",
   "name": "python3"
  },
  "language_info": {
   "codemirror_mode": {
    "name": "ipython",
    "version": 3
   },
   "file_extension": ".py",
   "mimetype": "text/x-python",
   "name": "python",
   "nbconvert_exporter": "python",
   "pygments_lexer": "ipython3",
   "version": "3.11.4"
  },
  "orig_nbformat": 4
 },
 "nbformat": 4,
 "nbformat_minor": 2
}
